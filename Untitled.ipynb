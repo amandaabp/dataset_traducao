{
 "cells": [
  {
   "cell_type": "code",
   "execution_count": 1,
   "id": "42efbd85-7471-4da5-a764-38f6b2fb4e6a",
   "metadata": {},
   "outputs": [
    {
     "name": "stdout",
     "output_type": "stream",
     "text": [
      "{'generated_text': '! I’ve been debating posting for a while; since I’m essentially a brand new homebrewer (1 full batch under my belt), I’ve been reading and trying to learn from every homebrewing text I can get my hands on (this includes many Australian and New Zealand sites). Android one wizardry aside1, this is really my first foray (electronicsly speaking) into the home brewery.\\n\\nDuring my planning for my first home brewed batch of beer my question became, “Where on'}\n"
     ]
    }
   ],
   "source": [
    "import requests\n",
    "\n",
    "url = \"http://localhost:8080/generate\"  # Updated port\n",
    "headers = {\"Content-Type\": \"application/json\"}\n",
    "data = {\"inputs\": \"Hello, world\"}\n",
    "\n",
    "response = requests.post(url, headers=headers, json=data)\n",
    "\n",
    "if response.status_code == 200:\n",
    "    result = response.json()\n",
    "    print(result) \n",
    "else:\n",
    "    print(\"Error:\", response.status_code, response.text)\n"
   ]
  },
  {
   "cell_type": "code",
   "execution_count": null,
   "id": "431a1293-34f7-4767-91ea-e4c02417b90d",
   "metadata": {},
   "outputs": [],
   "source": []
  }
 ],
 "metadata": {
  "kernelspec": {
   "display_name": "Python 3 (ipykernel)",
   "language": "python",
   "name": "python3"
  },
  "language_info": {
   "codemirror_mode": {
    "name": "ipython",
    "version": 3
   },
   "file_extension": ".py",
   "mimetype": "text/x-python",
   "name": "python",
   "nbconvert_exporter": "python",
   "pygments_lexer": "ipython3",
   "version": "3.10.12"
  }
 },
 "nbformat": 4,
 "nbformat_minor": 5
}
